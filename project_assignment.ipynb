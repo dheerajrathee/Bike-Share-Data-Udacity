{
  "nbformat": 4,
  "nbformat_minor": 0,
  "metadata": {
    "colab": {
      "name": "project_assignment.ipynb",
      "provenance": [],
      "collapsed_sections": [],
      "mount_file_id": "18kfcNpsjbFwNRmXxY7laoMJhyceB00uw",
      "authorship_tag": "ABX9TyMFT8KBDcr5FujeNsX3+nuK",
      "include_colab_link": true
    },
    "kernelspec": {
      "name": "python3",
      "display_name": "Python 3"
    }
  },
  "cells": [
    {
      "cell_type": "markdown",
      "metadata": {
        "id": "view-in-github",
        "colab_type": "text"
      },
      "source": [
        "<a href=\"https://colab.research.google.com/github/dheerajrathee/Bike-Share-Data-Udacity/blob/master/project_assignment.ipynb\" target=\"_parent\"><img src=\"https://colab.research.google.com/assets/colab-badge.svg\" alt=\"Open In Colab\"/></a>"
      ]
    },
    {
      "cell_type": "markdown",
      "metadata": {
        "id": "kJOjWKsvStsI"
      },
      "source": [
        "Add liberaries"
      ]
    },
    {
      "cell_type": "code",
      "metadata": {
        "id": "7is5BGT3XrCn"
      },
      "source": [
        "import pandas as pd\r\n"
      ],
      "execution_count": 2,
      "outputs": []
    },
    {
      "cell_type": "code",
      "metadata": {
        "colab": {
          "base_uri": "https://localhost:8080/"
        },
        "id": "1zEtaeISRVAu",
        "outputId": "6a0bddc6-bbd9-4da8-8ccb-dc85a46bc4a3"
      },
      "source": [
        "# Mount google drive folder\r\n",
        "from google.colab import drive\r\n",
        "# This will prompt for authorization.\r\n",
        "drive.mount('/content/drive')"
      ],
      "execution_count": 1,
      "outputs": [
        {
          "output_type": "stream",
          "text": [
            "Drive already mounted at /content/drive; to attempt to forcibly remount, call drive.mount(\"/content/drive\", force_remount=True).\n"
          ],
          "name": "stdout"
        }
      ]
    },
    {
      "cell_type": "code",
      "metadata": {
        "id": "a2Zj2QGNWcti"
      },
      "source": [
        "path = '/content/drive/MyDrive/Colab Notebooks/project assignment data/CE888_Project_allocation_2021_Responses.xlsx'\r\n",
        "df = pd.read_excel(path)\r\n",
        "dh.head()"
      ],
      "execution_count": 9,
      "outputs": []
    },
    {
      "cell_type": "code",
      "metadata": {
        "id": "diWK_jQWX2Wn"
      },
      "source": [
        "df1 = df.iloc[:,1:6].copy()"
      ],
      "execution_count": 29,
      "outputs": []
    },
    {
      "cell_type": "code",
      "metadata": {
        "colab": {
          "base_uri": "https://localhost:8080/",
          "height": 195
        },
        "id": "K8FFjiyCaBzH",
        "outputId": "fda2ba84-8507-41d4-d2b7-cafab01f2c60"
      },
      "source": [
        "df1.columns = ['name', 'id','P1', 'P2','P3']\r\n",
        "df1.reset_index(inplace=True)\r\n",
        "df1.head()"
      ],
      "execution_count": 33,
      "outputs": [
        {
          "output_type": "execute_result",
          "data": {
            "text/html": [
              "<div>\n",
              "<style scoped>\n",
              "    .dataframe tbody tr th:only-of-type {\n",
              "        vertical-align: middle;\n",
              "    }\n",
              "\n",
              "    .dataframe tbody tr th {\n",
              "        vertical-align: top;\n",
              "    }\n",
              "\n",
              "    .dataframe thead th {\n",
              "        text-align: right;\n",
              "    }\n",
              "</style>\n",
              "<table border=\"1\" class=\"dataframe\">\n",
              "  <thead>\n",
              "    <tr style=\"text-align: right;\">\n",
              "      <th></th>\n",
              "      <th>index</th>\n",
              "      <th>name</th>\n",
              "      <th>id</th>\n",
              "      <th>P1</th>\n",
              "      <th>P2</th>\n",
              "      <th>P3</th>\n",
              "    </tr>\n",
              "  </thead>\n",
              "  <tbody>\n",
              "    <tr>\n",
              "      <th>0</th>\n",
              "      <td>0</td>\n",
              "      <td>Yevhen Blinkov</td>\n",
              "      <td>yb20465</td>\n",
              "      <td>Second option</td>\n",
              "      <td>First option</td>\n",
              "      <td>Third Option</td>\n",
              "    </tr>\n",
              "    <tr>\n",
              "      <th>1</th>\n",
              "      <td>1</td>\n",
              "      <td>Juan Antonio Lizárraga Vizcarra</td>\n",
              "      <td>jl20343</td>\n",
              "      <td>First option</td>\n",
              "      <td>Second option</td>\n",
              "      <td>Third Option</td>\n",
              "    </tr>\n",
              "    <tr>\n",
              "      <th>2</th>\n",
              "      <td>2</td>\n",
              "      <td>Nusret Tolga Aydin</td>\n",
              "      <td>na20732</td>\n",
              "      <td>First option</td>\n",
              "      <td>Second option</td>\n",
              "      <td>Third Option</td>\n",
              "    </tr>\n",
              "    <tr>\n",
              "      <th>3</th>\n",
              "      <td>3</td>\n",
              "      <td>Yaswanth Reddy Maram Reddy</td>\n",
              "      <td>ym20741</td>\n",
              "      <td>Second option</td>\n",
              "      <td>Third Option</td>\n",
              "      <td>First option</td>\n",
              "    </tr>\n",
              "    <tr>\n",
              "      <th>4</th>\n",
              "      <td>4</td>\n",
              "      <td>Zeel M Pansara</td>\n",
              "      <td>zp20945</td>\n",
              "      <td>First option</td>\n",
              "      <td>Second option</td>\n",
              "      <td>Third Option</td>\n",
              "    </tr>\n",
              "  </tbody>\n",
              "</table>\n",
              "</div>"
            ],
            "text/plain": [
              "   index                             name  ...             P2            P3\n",
              "0      0                   Yevhen Blinkov  ...   First option  Third Option\n",
              "1      1  Juan Antonio Lizárraga Vizcarra  ...  Second option  Third Option\n",
              "2      2               Nusret Tolga Aydin  ...  Second option  Third Option\n",
              "3      3       Yaswanth Reddy Maram Reddy  ...   Third Option  First option\n",
              "4      4                   Zeel M Pansara  ...  Second option  Third Option\n",
              "\n",
              "[5 rows x 6 columns]"
            ]
          },
          "metadata": {
            "tags": []
          },
          "execution_count": 33
        }
      ]
    },
    {
      "cell_type": "code",
      "metadata": {
        "id": "G3qbzZENfC9e"
      },
      "source": [
        ""
      ],
      "execution_count": null,
      "outputs": []
    }
  ]
}