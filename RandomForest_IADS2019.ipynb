{
  "nbformat": 4,
  "nbformat_minor": 0,
  "metadata": {
    "colab": {
      "name": "RandomForest-IADS2019.ipynb",
      "version": "0.3.2",
      "provenance": [],
      "collapsed_sections": [],
      "include_colab_link": true
    },
    "kernelspec": {
      "name": "python3",
      "display_name": "Python 3"
    },
    "accelerator": "GPU"
  },
  "cells": [
    {
      "cell_type": "markdown",
      "metadata": {
        "id": "view-in-github",
        "colab_type": "text"
      },
      "source": [
        "<a href=\"https://colab.research.google.com/github/dheerajrathee/Bike-Share-Data-Udacity/blob/master/RandomForest_IADS2019.ipynb\" target=\"_parent\"><img src=\"https://colab.research.google.com/assets/colab-badge.svg\" alt=\"Open In Colab\"/></a>"
      ]
    },
    {
      "cell_type": "code",
      "metadata": {
        "id": "DPBHwNGVpbPq",
        "colab_type": "code",
        "colab": {}
      },
      "source": [
        "# from google.colab import drive\n",
        "# # drive.mount('/gdrive')\n",
        "# %cd /gdrive/My Drive/IADS-2019-Tree-Codes"
      ],
      "execution_count": 0,
      "outputs": []
    },
    {
      "cell_type": "markdown",
      "metadata": {
        "id": "ev6gbXGYfLfp",
        "colab_type": "text"
      },
      "source": [
        "# **Contents**\n",
        "\n",
        "### 1. Implementation of Random Forest for Classification\n",
        "### 2. Implementation of Random Forest for Regression\n",
        "\n",
        "\n",
        "\n",
        "\n"
      ]
    },
    {
      "cell_type": "markdown",
      "metadata": {
        "id": "06YtVCBqkbf5",
        "colab_type": "text"
      },
      "source": [
        "# 1. Classification\n"
      ]
    },
    {
      "cell_type": "markdown",
      "metadata": {
        "id": "0jWOszUoksPX",
        "colab_type": "text"
      },
      "source": [
        "## Dataset for Classification\n",
        "\n",
        "\n",
        "\n",
        "\n",
        "> **Dataset:**  [Iris dataset](https://scikit-learn.org/stable/datasets/index.html#iris-dataset).\n",
        "\n",
        "\n",
        "\n",
        "*   **Number of Instances:** \n",
        "    *   150 (50 in each of three classes)\n",
        "*   **Number of Attributes:**\n",
        "    *   4 numeric, predictive attributes and the class\n",
        "\n",
        "*   **Attribute Information:**\n",
        "    *   sepal length in cm\n",
        "    *   sepal width in cm\n",
        "    *   petal length in cm\n",
        "    *   petal width in cm\n",
        "\n",
        "*   **Classes:**\n",
        "    *   Setosa (0)\n",
        "    *   Versicolour (1)\n",
        "    *   Virginica (2)\n",
        "    \n",
        "\n",
        "\n",
        "\n",
        "\n"
      ]
    },
    {
      "cell_type": "code",
      "metadata": {
        "id": "XhWxdDXGfa_Y",
        "colab_type": "code",
        "colab": {}
      },
      "source": [
        "# Add liberaries \n",
        "from sklearn import datasets  # DATA\n",
        "from sklearn.model_selection import train_test_split # to Split Train-Test data\n",
        "from sklearn import ensemble # To get Decision Tree \n",
        "from sklearn import metrics # To generate evaluation metrices\n",
        "from sklearn.model_selection import cross_val_predict\n",
        "from sklearn.model_selection import cross_val_score\n",
        "\n",
        "\n",
        "from sklearn.tree import export_graphviz # exporting the tree structure as dot file\n",
        "from pydotplus.graphviz import graph_from_dot_data # export png image from dot file\n",
        "from IPython.display import Image, SVG # Show the image within colab notebook\n",
        "from graphviz import Source\n",
        "import matplotlib.pyplot as plt\n",
        "\n",
        "import pandas as pd # for basic data manipulations \n",
        "import numpy as np\n",
        "\n"
      ],
      "execution_count": 0,
      "outputs": []
    },
    {
      "cell_type": "markdown",
      "metadata": {
        "id": "PVvhtZmzgZt6",
        "colab_type": "text"
      },
      "source": [
        "### 1. Load Data"
      ]
    },
    {
      "cell_type": "code",
      "metadata": {
        "id": "2Ouc794ShFCX",
        "colab_type": "code",
        "colab": {}
      },
      "source": [
        "#load data and see meta info\n",
        "iris = datasets.load_iris()\n",
        "dir(iris)"
      ],
      "execution_count": 0,
      "outputs": []
    },
    {
      "cell_type": "markdown",
      "metadata": {
        "id": "jn5ALWzlg5v_",
        "colab_type": "text"
      },
      "source": [
        "### 2. Explore Data\n"
      ]
    },
    {
      "cell_type": "code",
      "metadata": {
        "id": "k6uvmutxjMWx",
        "colab_type": "code",
        "colab": {}
      },
      "source": [
        "# print type and shape of data\n",
        "print(type(iris.data))\n",
        "print(type(iris.target))\n",
        "\n",
        "print(iris.data.shape)\n",
        "print(iris.target.shape)"
      ],
      "execution_count": 0,
      "outputs": []
    },
    {
      "cell_type": "markdown",
      "metadata": {
        "id": "PWK8ExaZieM9",
        "colab_type": "text"
      },
      "source": [
        "### 3. Create Panda Dataframe and do data manipulations"
      ]
    },
    {
      "cell_type": "code",
      "metadata": {
        "id": "M8GXIW8bhdyn",
        "colab_type": "code",
        "colab": {}
      },
      "source": [
        "dfCls = pd.DataFrame(iris.data, columns=iris.feature_names)\n",
        "dfCls.head()"
      ],
      "execution_count": 0,
      "outputs": []
    },
    {
      "cell_type": "code",
      "metadata": {
        "id": "OAUu50i_hk8P",
        "colab_type": "code",
        "colab": {}
      },
      "source": [
        "# Add target data to the panda dataframe\n",
        "dfCls['target'] = iris.target\n",
        "dfCls.head()"
      ],
      "execution_count": 0,
      "outputs": []
    },
    {
      "cell_type": "markdown",
      "metadata": {
        "id": "92JNHnFqiwq-",
        "colab_type": "text"
      },
      "source": [
        "### 4. Split the data for Training and Testing"
      ]
    },
    {
      "cell_type": "code",
      "metadata": {
        "id": "ac89rgVlkDHA",
        "colab_type": "code",
        "colab": {}
      },
      "source": [
        "X_train, X_test, y_train, y_test = train_test_split(dfCls.drop(['target'],axis='columns'), iris.target, test_size=0.2,random_state=0, stratify=iris.target)\n",
        "print(X_train.shape)\n",
        "print(X_test.shape)"
      ],
      "execution_count": 0,
      "outputs": []
    },
    {
      "cell_type": "markdown",
      "metadata": {
        "id": "WmFoeacki95Y",
        "colab_type": "text"
      },
      "source": [
        "### 5. Initialise a Random Forest Classifier"
      ]
    },
    {
      "cell_type": "code",
      "metadata": {
        "id": "qmsuBza6lba-",
        "colab_type": "code",
        "colab": {}
      },
      "source": [
        "rfClassifier = ensemble.RandomForestClassifier(n_estimators=100, criterion='gini', max_depth=None, \n",
        "                                               min_samples_split=2, min_samples_leaf=1, min_weight_fraction_leaf=0.0, \n",
        "                                               max_features='auto', max_leaf_nodes=None, min_impurity_decrease=0.0, \n",
        "                                               min_impurity_split=None, bootstrap=True, oob_score=False, n_jobs=None, \n",
        "                                               random_state=2, verbose=0, warm_start=False, class_weight=None)"
      ],
      "execution_count": 0,
      "outputs": []
    },
    {
      "cell_type": "markdown",
      "metadata": {
        "id": "gY8sN-mo4Ztn",
        "colab_type": "text"
      },
      "source": [
        "\n",
        "\n",
        "> ***Let's dig into*** **[tree.RandomForestClassifier](https://scikit-learn.org/stable/modules/generated/sklearn.ensemble.RandomForestClassifier.html)**\n",
        "\n"
      ]
    },
    {
      "cell_type": "markdown",
      "metadata": {
        "id": "2LZ65_P4CuiZ",
        "colab_type": "text"
      },
      "source": [
        "### 6. Model Evaluation on Train data"
      ]
    },
    {
      "cell_type": "code",
      "metadata": {
        "id": "nbphECGHXQTg",
        "colab_type": "code",
        "colab": {}
      },
      "source": [
        "#perform 10 fold cross validation and plot the CM\n",
        "CV_predicted = cross_val_predict(rfClassifier, X_train, y_train, cv=10) #CV predicted values (training data)\n",
        "CV_score = cross_val_score(rfClassifier, X_train, y_train, cv=10) #CV model score (training data)\n",
        "\n",
        "print(\"Cross validation Score on train data: \",CV_score.mean())\n",
        "print(\"\\n\")\n",
        "\n",
        "print(\"Confusion matrix on CV predictions (train data)\")\n",
        "print(metrics.confusion_matrix(y_train, CV_predicted)) # confusion matrix on CV predictions (train data)\n",
        "print(\"\\n\")\n",
        "\n",
        "print(\"Classification report CV predictions (train data)\")\n",
        "print(metrics.classification_report(y_train, CV_predicted, target_names=['Setosa', 'Versicolor', 'Virginica'])) # classification report CV predictions (train data)\n"
      ],
      "execution_count": 0,
      "outputs": []
    },
    {
      "cell_type": "markdown",
      "metadata": {
        "id": "0FHoUgZGjHSo",
        "colab_type": "text"
      },
      "source": [
        "### 7. Let's fit the RF model on Training data and perform prediction with the Test data "
      ]
    },
    {
      "cell_type": "code",
      "metadata": {
        "id": "9afkTHSwlh-y",
        "colab_type": "code",
        "colab": {}
      },
      "source": [
        "rfClassMdl = rfClassifier.fit(X_train,y_train)\n",
        "\n",
        "y_predicted = rfClassMdl.predict(X_test)"
      ],
      "execution_count": 0,
      "outputs": []
    },
    {
      "cell_type": "markdown",
      "metadata": {
        "id": "TcorWrwVjlr_",
        "colab_type": "text"
      },
      "source": [
        "### 8. Model Evaluation on Test Data"
      ]
    },
    {
      "cell_type": "code",
      "metadata": {
        "id": "fgGWc9H3lpbO",
        "colab_type": "code",
        "colab": {}
      },
      "source": [
        "mdl_score = rfClassMdl.score(X_test,y_test) #model score (test data)\n",
        "print (\"Model Score on test data:\",mdl_score)\n",
        "print(\"\\n\")\n",
        "\n",
        "print(\"Confusion matrix (test data)\")\n",
        "print(metrics.confusion_matrix(y_test, y_predicted)) #confusion matrix (test data)\n",
        "print(\"\\n\")\n",
        "\n",
        "print(\"Classification report (test data)\")\n",
        "print(metrics.classification_report(y_test, y_predicted, target_names=['Setosa', 'Versicolor', 'Virginica'])) # classification report (test data)"
      ],
      "execution_count": 0,
      "outputs": []
    },
    {
      "cell_type": "markdown",
      "metadata": {
        "id": "qoriwm0kj8m_",
        "colab_type": "text"
      },
      "source": [
        "### 9. Plot the trained RF structure for visualisation"
      ]
    },
    {
      "cell_type": "code",
      "metadata": {
        "id": "FhFRFBhdLis4",
        "colab_type": "code",
        "colab": {}
      },
      "source": [
        "#Analyse the smallest tree in the forest\n",
        "size, index = min((estimator.tree_.node_count, idx) for (idx,estimator) in enumerate(rfClassMdl.estimators_))\n",
        "print(f'The smallest tree has {size} nodes! with {index} index!')"
      ],
      "execution_count": 0,
      "outputs": []
    },
    {
      "cell_type": "code",
      "metadata": {
        "id": "SBbrMPGDNPhq",
        "colab_type": "code",
        "colab": {}
      },
      "source": [
        "# Plot the smallest tree\n",
        "graph = Source(export_graphviz(rfClassMdl.estimators_[index], out_file=None, feature_names=X_train.columns, filled=True, class_names=['Setosa', 'Versicolor','Virginica']))\n",
        "SVG(graph.pipe(format='svg'))"
      ],
      "execution_count": 0,
      "outputs": []
    },
    {
      "cell_type": "code",
      "metadata": {
        "id": "NATE9PvVnAfd",
        "colab_type": "code",
        "colab": {}
      },
      "source": [
        "smallest_tree = rfClassMdl.estimators_[index]\n",
        "\n",
        "smallest_tree.score(X_test,y_test)"
      ],
      "execution_count": 0,
      "outputs": []
    },
    {
      "cell_type": "code",
      "metadata": {
        "id": "zSYeYLCKUKW9",
        "colab_type": "code",
        "colab": {}
      },
      "source": [
        "from collections import OrderedDict\n",
        "from sklearn.datasets import make_classification\n",
        "\n",
        "# Generate a binary classification dataset.\n",
        "X, y = make_classification(n_samples=500, n_features=25,\n",
        "                           n_clusters_per_class=1, n_informative=15,\n",
        "                           random_state=18)\n",
        "\n",
        "clfs_cluster = [\n",
        "    (\"RandomForestClassifier, max_features='sqrt'\",\n",
        "        ensemble.RandomForestClassifier(n_estimators=100,\n",
        "                               warm_start=True, oob_score=True,\n",
        "                               max_features=\"sqrt\",\n",
        "                               random_state=18)),\n",
        "    (\"RandomForestClassifier, max_features='log2'\",\n",
        "        ensemble.RandomForestClassifier(n_estimators=100,\n",
        "                               warm_start=True, max_features='log2',\n",
        "                               oob_score=True,\n",
        "                               random_state=18)),\n",
        "    (\"RandomForestClassifier, max_features=None\",\n",
        "        ensemble.RandomForestClassifier(n_estimators=100,\n",
        "                               warm_start=True, max_features=None,\n",
        "                               oob_score=True,\n",
        "                               random_state=18))\n",
        "]\n",
        "\n",
        "# Map a classifier name to a list of (<n_estimators>, <error rate>) pairs.\n",
        "error_rate = OrderedDict((label, []) for label, _ in clfs_cluster)\n",
        "\n",
        "# Range of `n_estimators` values to explore.\n",
        "min_estimators = 20\n",
        "max_estimators = 180\n",
        "\n",
        "for label, clf in clfs_cluster:\n",
        "    for i in range(min_estimators, max_estimators + 1):\n",
        "        clf.set_params(n_estimators=i)\n",
        "        clf.fit(X, y)\n",
        "\n",
        "        # Record the OOB error for each `n_estimators=i` setting.\n",
        "        oob_error = 1 - clf.oob_score_\n",
        "        error_rate[label].append((i, oob_error))\n",
        "\n",
        "# Generate the \"OOB error rate\" vs. \"n_estimators\" plot.\n",
        "plt.figure(figsize=(14,8))\n",
        "for label, clf_err in error_rate.items():\n",
        "    xs, ys = zip(*clf_err)\n",
        "    plt.plot(xs, ys, label=label)\n",
        "    \n",
        "\n",
        "plt.xlim(min_estimators, max_estimators)\n",
        "plt.xlabel(\"n_estimators\")\n",
        "plt.ylabel(\"OOB error rate\")\n",
        "plt.legend(loc=\"upper right\")\n",
        "plt.show()"
      ],
      "execution_count": 0,
      "outputs": []
    },
    {
      "cell_type": "markdown",
      "metadata": {
        "id": "6-tL32fA2jHQ",
        "colab_type": "text"
      },
      "source": [
        "# 2. Regression "
      ]
    },
    {
      "cell_type": "markdown",
      "metadata": {
        "id": "5WTLwNH80561",
        "colab_type": "text"
      },
      "source": [
        "## Dataset for Regression\n",
        "\n",
        "\n",
        "\n",
        "> **Dataset:**  [Boston house-price](https://scikit-learn.org/stable/datasets/index.html#boston-dataset)\n",
        "\n",
        "\n",
        "\n",
        "*   **Number of Instances:** \n",
        "    *   \t506\n",
        "*   **Number of Attributes:**\n",
        "    *   13 numeric/categorical predictive. Median Value (attribute 14) is usually the target.\n",
        "\n",
        "*   **Attribute Information:**\n",
        "    *   CRIM per capita crime rate by town\n",
        "    *   ZN proportion of residential land zoned for lots over 25,000 sq.ft.\n",
        "    *   INDUS proportion of non-retail business acres per town\n",
        "    *   CHAS Charles River dummy variable (= 1 if tract bounds river; 0 otherwise)\n",
        "    *   NOX nitric oxides concentration (parts per 10 million)\n",
        "    *   RM average number of rooms per dwelling\n",
        "    *   AGE proportion of owner-occupied units built prior to 1940\n",
        "    *   DIS weighted distances to five Boston employment centres\n",
        "    *   RAD index of accessibility to radial highways\n",
        "    *   TAX full-value property-tax rate per \\$10,000\n",
        "    *   PTRATIO pupil-teacher ratio by town\n",
        "    *   B 1000(Bk - 0.63)^2 where Bk is the proportion of blacks by town\n",
        "    *   LSTAT \\% lower status of the population\n",
        "    *   MEDV Median value of owner-occupied homes in \\$1000’s\n",
        "\n",
        "\n",
        "\n",
        "\n",
        "\n",
        "\n"
      ]
    },
    {
      "cell_type": "markdown",
      "metadata": {
        "id": "sotLN7jW2u1z",
        "colab_type": "text"
      },
      "source": [
        "### 1. Load Data"
      ]
    },
    {
      "cell_type": "code",
      "metadata": {
        "id": "RmSgDkjSrmlJ",
        "colab_type": "code",
        "colab": {}
      },
      "source": [
        "#load data and see meta info\n",
        "boston = datasets.load_boston()\n",
        "dir(boston)"
      ],
      "execution_count": 0,
      "outputs": []
    },
    {
      "cell_type": "markdown",
      "metadata": {
        "id": "DXt7_Bd42xVD",
        "colab_type": "text"
      },
      "source": [
        "### 2. Explore Data"
      ]
    },
    {
      "cell_type": "code",
      "metadata": {
        "id": "OCMT1DpU4I8L",
        "colab_type": "code",
        "colab": {}
      },
      "source": [
        "# print type and shape of data\n",
        "print(type(boston.data))\n",
        "print(type(boston.target))\n",
        "\n",
        "print(boston.data.shape)\n",
        "print(boston.target.shape)"
      ],
      "execution_count": 0,
      "outputs": []
    },
    {
      "cell_type": "markdown",
      "metadata": {
        "id": "pB0F9RUh2xHl",
        "colab_type": "text"
      },
      "source": [
        "### 3. Create Panda Dataframe and do data manipulations"
      ]
    },
    {
      "cell_type": "code",
      "metadata": {
        "id": "qm67vAVE4f_m",
        "colab_type": "code",
        "colab": {}
      },
      "source": [
        "dfReg = pd.DataFrame(boston.data, columns=boston.feature_names)\n",
        "dfReg.head()"
      ],
      "execution_count": 0,
      "outputs": []
    },
    {
      "cell_type": "code",
      "metadata": {
        "id": "KZyLRoTE4fql",
        "colab_type": "code",
        "colab": {}
      },
      "source": [
        "# Add target data to the panda dataframe\n",
        "dfReg['target'] = boston.target\n",
        "dfReg.head()"
      ],
      "execution_count": 0,
      "outputs": []
    },
    {
      "cell_type": "markdown",
      "metadata": {
        "id": "5YuzSOmYeisM",
        "colab_type": "text"
      },
      "source": [
        "### 4. Split the data for Training and Testing"
      ]
    },
    {
      "cell_type": "code",
      "metadata": {
        "colab_type": "code",
        "id": "1sDtyMsH7A1u",
        "colab": {}
      },
      "source": [
        "X_train, X_test, y_train, y_test = train_test_split(dfReg.drop(['target'],axis='columns'),boston.target,test_size=0.1,random_state=0)\n",
        "print(X_train.shape)\n",
        "print(X_test.shape)"
      ],
      "execution_count": 0,
      "outputs": []
    },
    {
      "cell_type": "markdown",
      "metadata": {
        "id": "TuKOHcW42xBs",
        "colab_type": "text"
      },
      "source": [
        "### 5. Initialise a Random Forest Regressor"
      ]
    },
    {
      "cell_type": "code",
      "metadata": {
        "id": "zT8avjXq9QUt",
        "colab_type": "code",
        "colab": {}
      },
      "source": [
        "rfRegressor = ensemble.RandomForestRegressor(n_estimators=200, criterion='mse', \n",
        "                                             max_depth=None, min_samples_split=2, \n",
        "                                             min_samples_leaf=1, min_weight_fraction_leaf=0.0, \n",
        "                                             max_features='auto', max_leaf_nodes=None, \n",
        "                                             min_impurity_decrease=0.0, min_impurity_split=None, \n",
        "                                             bootstrap=True, oob_score=False, n_jobs=None, \n",
        "                                             random_state=2, verbose=0, warm_start=False)"
      ],
      "execution_count": 0,
      "outputs": []
    },
    {
      "cell_type": "markdown",
      "metadata": {
        "colab_type": "text",
        "id": "QZoG0sHz5GH8"
      },
      "source": [
        "\n",
        "\n",
        "> ***Let's dig into*** **[tree.RandomForestRegressor](https://scikit-learn.org/stable/modules/generated/sklearn.ensemble.RandomForestRegressor.html)**\n",
        "\n",
        "\n",
        "\n",
        "\n"
      ]
    },
    {
      "cell_type": "markdown",
      "metadata": {
        "id": "t282VQHAcUc6",
        "colab_type": "text"
      },
      "source": [
        "### 6. Model Performance on Train data"
      ]
    },
    {
      "cell_type": "code",
      "metadata": {
        "id": "6B190_lRTHrW",
        "colab_type": "code",
        "colab": {}
      },
      "source": [
        "CV_predicted = cross_val_predict(rfRegressor, X_train, y_train, cv=10) # CV prediction on Train data\n",
        "r2_score_cv = cross_val_score(rfRegressor, X_train, y_train, cv=10).mean() # CV model score on Train data\n",
        "print (\"Crossvalidation Coefficient of determination on training set :\",r2_score_cv)"
      ],
      "execution_count": 0,
      "outputs": []
    },
    {
      "cell_type": "code",
      "metadata": {
        "id": "zPffjIPWXx-_",
        "colab_type": "code",
        "colab": {}
      },
      "source": [
        "# Plot measured values vs predicted values Training Data\n",
        "plt.figure(num=None, figsize=(12, 8), dpi=80, facecolor='w', edgecolor='k')\n",
        "plt.scatter(y_train, CV_predicted, edgecolors=(0, 0, 0))\n",
        "plt.plot([y_train.min(), y_train.max()], [y_train.min(), y_train.max()], 'r--', lw=4)\n",
        "plt.xlabel('Measured')\n",
        "plt.ylabel('Predicted')\n",
        "plt.title('Measured vs Predicted Values for Training Data (10x CV)')\n",
        "plt.show()"
      ],
      "execution_count": 0,
      "outputs": []
    },
    {
      "cell_type": "markdown",
      "metadata": {
        "id": "x-U_izjqclxh",
        "colab_type": "text"
      },
      "source": [
        "### 7.  Let's fit the RF model on Training data and perform prediction with the Test data "
      ]
    },
    {
      "cell_type": "code",
      "metadata": {
        "id": "3s3qAAYp9ij9",
        "colab_type": "code",
        "colab": {}
      },
      "source": [
        "rfRegressor_model = rfRegressor.fit(X_train,y_train)\n",
        "\n",
        "y_predicted = rfRegressor_model.predict(X_test)"
      ],
      "execution_count": 0,
      "outputs": []
    },
    {
      "cell_type": "markdown",
      "metadata": {
        "id": "y6CvPPeCc6yI",
        "colab_type": "text"
      },
      "source": [
        "### 8. Model Performance on Test data"
      ]
    },
    {
      "cell_type": "code",
      "metadata": {
        "id": "mJlZDWPvRVBt",
        "colab_type": "code",
        "colab": {}
      },
      "source": [
        "r2_score = rfRegressor_model.score(X_test,y_test) #R2 Score\n",
        "print (\"Coefficient of determination on test set: \",r2_score)\n",
        "\n",
        "mse_score = metrics.mean_squared_error(y_test, y_predicted) #Mean Squared Error\n",
        "print (\"\\nMean Squared Error on test set :\",mse_score)"
      ],
      "execution_count": 0,
      "outputs": []
    },
    {
      "cell_type": "markdown",
      "metadata": {
        "id": "YhhvUX4cgH90",
        "colab_type": "text"
      },
      "source": [
        "### 9. Visualisation"
      ]
    },
    {
      "cell_type": "code",
      "metadata": {
        "id": "BoCKwfr4V38t",
        "colab_type": "code",
        "colab": {}
      },
      "source": [
        "# Plot measured values vs predicted values\n",
        "plt.figure(num=None, figsize=(12, 8), dpi=80, facecolor='w', edgecolor='k')\n",
        "plt.scatter(y_test, y_predicted, edgecolors=(0, 0, 0))\n",
        "plt.plot([y_test.min(), y_test.max()], [y_test.min(), y_test.max()], 'r--', lw=4)\n",
        "plt.xlabel('Measured')\n",
        "plt.ylabel('Predicted')\n",
        "plt.title('Measured vs Predicted Values for Test Data')\n",
        "plt.show()\n",
        "\n"
      ],
      "execution_count": 0,
      "outputs": []
    },
    {
      "cell_type": "code",
      "metadata": {
        "id": "BqCoqPvIdigG",
        "colab_type": "code",
        "colab": {}
      },
      "source": [
        "# Plot a one-to-one comparison of measured values vs predicted values\n",
        "plt.figure(num=None, figsize=(25, 4), dpi=80, facecolor='w', edgecolor='k')\n",
        "plt.plot(y_predicted, 'gd-', label='DecisionTreeRegressor')\n",
        "plt.plot(y_test, 'r*-', label='Actual values')\n",
        "plt.tick_params(axis='x', which='both', bottom=False, top=False,\n",
        "                labelbottom=False)\n",
        "plt.ylabel('Target values')\n",
        "plt.xlabel('Training samples')\n",
        "plt.legend(loc=\"best\")\n",
        "plt.title('Comparison of individual sample predictions')\n",
        "plt.show()"
      ],
      "execution_count": 0,
      "outputs": []
    },
    {
      "cell_type": "code",
      "metadata": {
        "id": "cpeTU5jwRz4z",
        "colab_type": "code",
        "colab": {}
      },
      "source": [
        "# #############################################################################\n",
        "# Plot feature importance\n",
        "feature_importance = rfRegressor_model.feature_importances_\n",
        "# make importances relative to max importance\n",
        "feature_importance = 100.0 * (feature_importance / feature_importance.max())\n",
        "sorted_idx = np.argsort(feature_importance)\n",
        "pos = range(X_train.shape[1]);\n",
        "\n",
        "plt.figure(figsize=(10,8))\n",
        "plt.barh(pos, feature_importance[sorted_idx], align='center')\n",
        "plt.yticks(pos, boston.feature_names[sorted_idx])\n",
        "plt.xlabel('Relative Importance')\n",
        "plt.title('Variable Importance')\n",
        "\n",
        "plt.show()"
      ],
      "execution_count": 0,
      "outputs": []
    }
  ]
}